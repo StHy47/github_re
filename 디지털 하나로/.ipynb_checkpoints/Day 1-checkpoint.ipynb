{
 "cells": [
  {
   "cell_type": "markdown",
   "id": "9a4e4a52",
   "metadata": {},
   "source": [
    "# 데이터 분석과 개념 확립"
   ]
  },
  {
   "cell_type": "markdown",
   "id": "e0003f1e",
   "metadata": {},
   "source": [
    "## 데이터 분석 트렌드 변화\n",
    "- 데이터 : 여러 정보의 집합\n",
    "- 데이터 분석 : 설득하는 일\n",
    "\n",
    "1. 전통 통계 : \n",
    "    - 초기 현장에서는 통계를 활용해 데이터를 분석하고 처리\n",
    "    - 통계 : 모집단(파악하고자 하는 바) -> 표본(처리가능한 데이터)을 추출하여, 분석한 통계량을 바탕으로 모집단 추정 과정\n",
    "    - 데이터 수집의 한계 -> 적은 데이터를 가지고 예측\n",
    "\n",
    "2. 데이터 마이닝 :\n",
    "    - 통계학과 컴퓨터 기술발전의 결합\n",
    "    - 기존에 다루던 사이즈보다 더 큰 규모의 데이터 다루기 가능\n",
    "    - 모집단의 개념 없이, 전체 데이터를 컴퓨터가 학습 및 처리 -> 기존에 없던 새로운 규칙이나 수식을 도출하는 형태로 분석\n",
    "    - 기존 통계학과 달리 확보된 데이터가 모집단을 의미함\n",
    "    - 1990s 식스-시그마 기업에 등장 및 사용\n",
    "    \n",
    "3. 빅데이터\n",
    "    - IT 기술 발전으로 기존에 다루던 데이터보다 더 큰 데이터를 다룰 수 있게 됨\n",
    "    - 두 가지 관점의 변화\n",
    "        1. 데이터 사이즈 : 병렬 컴퓨팅 가능\n",
    "            - 1대  -> 여러 대로 연산 가능(MPI / Map Reduce)\n",
    "        2. 데이터 구조 : 기존 정형데이터(Excel, RDB, CSV, SQL) -> 비정형 데이터 (이미지, 소리, 영상, 자연어)와 같은 데이터 처리 분석 기술 등장\n",
    "     - IT 기술 뿐 아니라 통계적인 개념과 실무에서 어떻게 데이터를 분석하는지에 대한 전체적인 흐름을 읽을 수 있어야 함\n",
    "     "
   ]
  },
  {
   "cell_type": "markdown",
   "id": "53257b22",
   "metadata": {},
   "source": [
    "## 데이터 분석 절차\n",
    " 1. 기술적 데이터 분석 (Descriptive Data Analysis)\n",
    "     - 데이터를 가져와서 데이터의 기본적인 정보 파악\n",
    "     - 데이터 구조와 타입 확인\n",
    "     - 목표변수와 설명변수를 설정\n",
    "         - 목표변수(Y, Output, Label, Target) : 문제해결에 있어 핵심이 되는 data\n",
    "         - 설명변수(X, Input, Feature)\n",
    "     - 기술통계량 확인 : 평균  / 분위 / 중위수 / 빈도수 ..\n",
    "     \n",
    " 2. 탐색적 데이터 분석 (Exploratory Data Analysis)\n",
    "     - 앞서 확인한 목표변수와 설명변수 간 관계를 파악\n",
    "     - 데이터 시각화(주관적)\n",
    "     \n",
    " 3. 확증적 데이터 분석 (Confirmatory Data Analysis)\n",
    "     - 데이터 간 연관성, 상관성, 유사성 등을 가설로 수립하여 객관적 수치로 검증\n",
    "     - 검정을 통해 비즈니스 인사이트 도출 (해석)\n",
    "  \n",
    " 4. 예측적 데이터 분석 (Predictive Data Analysis)\n",
    "     - 목표변수와 설명변수 간의 관계를 수식화(모델링), 새로 등장할 데이터에 대해 예측하거나 대응\n",
    "     - 회귀분석 / 머신러닝\n",
    "     - 최적화 / 시스템화\n",
    "     "
   ]
  },
  {
   "cell_type": "code",
   "execution_count": null,
   "id": "8cc5419e",
   "metadata": {},
   "outputs": [],
   "source": []
  },
  {
   "cell_type": "code",
   "execution_count": null,
   "id": "9d201290",
   "metadata": {},
   "outputs": [],
   "source": []
  },
  {
   "cell_type": "code",
   "execution_count": null,
   "id": "d67c8e7f",
   "metadata": {},
   "outputs": [],
   "source": []
  },
  {
   "cell_type": "code",
   "execution_count": null,
   "id": "81ed23b9",
   "metadata": {},
   "outputs": [],
   "source": []
  },
  {
   "cell_type": "markdown",
   "id": "1a634f97",
   "metadata": {},
   "source": [
    "#  Juypter Notebook 사용법\n",
    "\n",
    "- cell : 코드나 마크다운을 작성하는 상자\n",
    "- markdown mode : 마크다운이란 마크업 언어의 일종\n"
   ]
  },
  {
   "cell_type": "markdown",
   "id": "689ac781",
   "metadata": {},
   "source": [
    "- 단축키 ESC + \n",
    "    - [a] : above - 현재 위치한 셀 상단에 셀 추가\n",
    "    - [b] : below - 현재 위치한 셀 하단에 셀 추가\n",
    "    - [x ] : 잘라내기\n",
    "    - [DD] : 삭제\n",
    "    - [z] : 실행취소 -> 셀에서 실행 취소 Ctrl + z / 노트북 전체의 실행 취소 ESC + z\n",
    "    - [m] : markdown으로 변경\n",
    "    - [y] : code로 변경\n",
    "\n",
    "- Shift  + Enter : 셀 실행\n",
    "- Alt + Enter : 하단에 셀 하나 추가하면서 현재 셀 실행\n",
    "- Ctrl + S  : 저장\n",
    "- Ctrl + / : 줄 전체 주석 ( = # )"
   ]
  },
  {
   "cell_type": "markdown",
   "id": "50a259e3",
   "metadata": {},
   "source": [
    "# 헤더 1 : 제일 큰 헤더\n",
    "## 헤더 2 : 두번째로 큰 헤더\n",
    "###### : # 갯수가 많아질수록 더 작아짐\n",
    "\n",
    " ** 굵은 글씨로 표현**\n",
    " \n",
    " ex) #**굵은 헤더**"
   ]
  },
  {
   "cell_type": "markdown",
   "id": "5bddfe69",
   "metadata": {},
   "source": [
    "# 파이썬 기초 문법\n",
    "## 변수의 개념 \n",
    " - 데이터를 들고 다니는 공간\n",
    " - 변수 선언 : 등호 왼쪽에 변수 이름, 오른쪽에 데이터 입력\n",
    " "
   ]
  },
  {
   "cell_type": "markdown",
   "id": "00313bef",
   "metadata": {},
   "source": [
    "## 데이터 타입\n",
    "\n",
    "- 숫자형 / 문자형 / 논리형\n",
    "\n",
    "- 숫자형 : int 정수형 / float 소수점까지\n",
    "- 문자형 : str\n",
    "- 논리형 : True / False\n",
    "\n",
    "- 파이썬은 대소문자 구분\n",
    "\n",
    "- type() : 데이터 타입을 확인할 수 있는 함수\n",
    "문자형 변수 선언 -> 따음표를 사용함"
   ]
  },
  {
   "cell_type": "code",
   "execution_count": null,
   "id": "c8093e7b",
   "metadata": {},
   "outputs": [],
   "source": [
    ",type(True) # 논리형 : boolean"
   ]
  },
  {
   "cell_type": "code",
   "execution_count": null,
   "id": "46e7f621",
   "metadata": {},
   "outputs": [],
   "source": []
  },
  {
   "cell_type": "markdown",
   "id": "0265750a",
   "metadata": {},
   "source": [
    "## 파이썬 연산자\n",
    "- 데이터 타입에 따라 연산 방법이 달라짐\n",
    "덧셈 : + , 뺄셈 : - , 곱셈 : * , 나눗셈 : / , 몫 : // , 나머지 : %\n"
   ]
  },
  {
   "cell_type": "code",
   "execution_count": null,
   "id": "961823bf",
   "metadata": {},
   "outputs": [],
   "source": []
  },
  {
   "cell_type": "markdown",
   "id": "a0a4bab9",
   "metadata": {},
   "source": [
    "## 문자데이터"
   ]
  },
  {
   "cell_type": "code",
   "execution_count": 2,
   "id": "e3cbc409",
   "metadata": {},
   "outputs": [],
   "source": [
    "d4 = 'python 데이터'\n",
    "d5 = '분석'"
   ]
  },
  {
   "cell_type": "code",
   "execution_count": 3,
   "id": "53028fa5",
   "metadata": {},
   "outputs": [
    {
     "data": {
      "text/plain": [
       "'python 데이터분석'"
      ]
     },
     "execution_count": 3,
     "metadata": {},
     "output_type": "execute_result"
    }
   ],
   "source": [
    "d4 +d5 # 두 개의 문자열을 이어붙여 쓴다"
   ]
  },
  {
   "cell_type": "code",
   "execution_count": 4,
   "id": "762bdb37",
   "metadata": {},
   "outputs": [
    {
     "data": {
      "text/plain": [
       "'python 데이터 분석'"
      ]
     },
     "execution_count": 4,
     "metadata": {},
     "output_type": "execute_result"
    }
   ],
   "source": [
    "d4 + ' ' + d5 # 띄어쓰기"
   ]
  },
  {
   "cell_type": "code",
   "execution_count": 5,
   "id": "6d5c2a30",
   "metadata": {},
   "outputs": [
    {
     "data": {
      "text/plain": [
       "False"
      ]
     },
     "execution_count": 5,
     "metadata": {},
     "output_type": "execute_result"
    }
   ],
   "source": [
    "d4 > d5\n",
    "# 알파벳 순서 상 뒤에 위치한 게 더 큼\n",
    "# 알파벳이 한글보다 큼"
   ]
  },
  {
   "cell_type": "markdown",
   "id": "d2e0c14a",
   "metadata": {},
   "source": [
    "## 논리형 연산 (비교구분)"
   ]
  },
  {
   "cell_type": "code",
   "execution_count": 6,
   "id": "433db32f",
   "metadata": {},
   "outputs": [],
   "source": [
    "d6 = 50\n",
    "d7 = 90"
   ]
  },
  {
   "cell_type": "code",
   "execution_count": 7,
   "id": "b3ae44cb",
   "metadata": {},
   "outputs": [
    {
     "data": {
      "text/plain": [
       "True"
      ]
     },
     "execution_count": 7,
     "metadata": {},
     "output_type": "execute_result"
    }
   ],
   "source": [
    "d6 < d7"
   ]
  },
  {
   "cell_type": "code",
   "execution_count": 8,
   "id": "37914113",
   "metadata": {},
   "outputs": [
    {
     "data": {
      "text/plain": [
       "False"
      ]
     },
     "execution_count": 8,
     "metadata": {},
     "output_type": "execute_result"
    }
   ],
   "source": [
    "d6> d7"
   ]
  },
  {
   "cell_type": "code",
   "execution_count": null,
   "id": "6b1d7ab8",
   "metadata": {},
   "outputs": [],
   "source": [
    "### True / Flase 를 대문자로 입력해야 함"
   ]
  },
  {
   "cell_type": "code",
   "execution_count": 10,
   "id": "97a0546b",
   "metadata": {},
   "outputs": [
    {
     "data": {
      "text/plain": [
       "False"
      ]
     },
     "execution_count": 10,
     "metadata": {},
     "output_type": "execute_result"
    }
   ],
   "source": [
    "d6 >= d7"
   ]
  },
  {
   "cell_type": "code",
   "execution_count": 14,
   "id": "fb70452b",
   "metadata": {},
   "outputs": [
    {
     "data": {
      "text/plain": [
       "False"
      ]
     },
     "execution_count": 14,
     "metadata": {},
     "output_type": "execute_result"
    }
   ],
   "source": [
    "d6 == d7 # 같음"
   ]
  },
  {
   "cell_type": "code",
   "execution_count": 15,
   "id": "1bdbc789",
   "metadata": {},
   "outputs": [
    {
     "data": {
      "text/plain": [
       "True"
      ]
     },
     "execution_count": 15,
     "metadata": {},
     "output_type": "execute_result"
    }
   ],
   "source": [
    "d6 != d7 # 같지 않음"
   ]
  },
  {
   "cell_type": "markdown",
   "id": "983db215",
   "metadata": {},
   "source": [
    "###  print 함수\n",
    "- 출력해주는 함수\n",
    "- 저장은 아님"
   ]
  },
  {
   "cell_type": "code",
   "execution_count": 16,
   "id": "8d8d9666",
   "metadata": {},
   "outputs": [
    {
     "name": "stdout",
     "output_type": "stream",
     "text": [
      "안녕\n"
     ]
    }
   ],
   "source": [
    "print('안녕')"
   ]
  },
  {
   "cell_type": "code",
   "execution_count": 17,
   "id": "ee4545c8",
   "metadata": {},
   "outputs": [
    {
     "data": {
      "text/plain": [
       "'분석'"
      ]
     },
     "execution_count": 17,
     "metadata": {},
     "output_type": "execute_result"
    }
   ],
   "source": [
    "d4\n",
    "d5\n",
    "#d4는 출력 x"
   ]
  },
  {
   "cell_type": "code",
   "execution_count": 19,
   "id": "e2797c77",
   "metadata": {},
   "outputs": [
    {
     "name": "stdout",
     "output_type": "stream",
     "text": [
      "python 데이터\n",
      "분석\n"
     ]
    }
   ],
   "source": [
    "print(d4)\n",
    "print(d5)"
   ]
  },
  {
   "cell_type": "code",
   "execution_count": null,
   "id": "bfdfc1cf",
   "metadata": {},
   "outputs": [],
   "source": []
  },
  {
   "cell_type": "code",
   "execution_count": null,
   "id": "fedcee5e",
   "metadata": {},
   "outputs": [],
   "source": []
  },
  {
   "cell_type": "markdown",
   "id": "f1900d75",
   "metadata": {},
   "source": [
    "## 파이썬 자료구조\n",
    "\n",
    "- 하나의 폴더 안에 여러 파일이 있듯\n",
    "- 하나의 자료구조 안에 여러 데이터가 들어감\n",
    "- List[ ]\n",
    "- Tuple ( )\n",
    "- Set { }\n",
    "- Dictionary {'key1' : 'value1', 'key2' : 'value2'}"
   ]
  },
  {
   "cell_type": "markdown",
   "id": "98605ef0",
   "metadata": {},
   "source": [
    "### 리스트\n",
    "- 대괄호로 구성 : [ ]\n",
    "- 데이터 순서가 있음 -> 오름/내림차순으로 표현하지 않음\n",
    "- 중복값 허용\n",
    "- 데이터 수정 가능"
   ]
  },
  {
   "cell_type": "code",
   "execution_count": 24,
   "id": "dd8cc1d0",
   "metadata": {},
   "outputs": [],
   "source": [
    "d8 = [20, 30, 80, 50, 50]"
   ]
  },
  {
   "cell_type": "code",
   "execution_count": 23,
   "id": "dd22bb12",
   "metadata": {},
   "outputs": [
    {
     "data": {
      "text/plain": [
       "list"
      ]
     },
     "execution_count": 23,
     "metadata": {},
     "output_type": "execute_result"
    }
   ],
   "source": [
    "type(d8)"
   ]
  },
  {
   "cell_type": "code",
   "execution_count": 25,
   "id": "b83dde24",
   "metadata": {},
   "outputs": [],
   "source": [
    "# append\n",
    "d8.append(150)"
   ]
  },
  {
   "cell_type": "code",
   "execution_count": 26,
   "id": "1ff0c357",
   "metadata": {},
   "outputs": [
    {
     "data": {
      "text/plain": [
       "[20, 30, 80, 50, 50, 150]"
      ]
     },
     "execution_count": 26,
     "metadata": {},
     "output_type": "execute_result"
    }
   ],
   "source": [
    "d8"
   ]
  },
  {
   "cell_type": "code",
   "execution_count": 27,
   "id": "b175e634",
   "metadata": {},
   "outputs": [],
   "source": [
    "#remove\n",
    "d8.remove(30)"
   ]
  },
  {
   "cell_type": "code",
   "execution_count": 28,
   "id": "fd5ad114",
   "metadata": {},
   "outputs": [
    {
     "data": {
      "text/plain": [
       "[20, 80, 50, 50, 150]"
      ]
     },
     "execution_count": 28,
     "metadata": {},
     "output_type": "execute_result"
    }
   ],
   "source": [
    "d8"
   ]
  },
  {
   "cell_type": "code",
   "execution_count": 29,
   "id": "68b94068",
   "metadata": {},
   "outputs": [],
   "source": [
    "# insert  위치 지정 추가\n",
    "d8.insert(0,'a') # 파이썬은 0부터"
   ]
  },
  {
   "cell_type": "code",
   "execution_count": 31,
   "id": "12cd7ce7",
   "metadata": {},
   "outputs": [
    {
     "data": {
      "text/plain": [
       "['a', 20, 80, 50, 50, 150]"
      ]
     },
     "execution_count": 31,
     "metadata": {},
     "output_type": "execute_result"
    }
   ],
   "source": [
    "d8"
   ]
  },
  {
   "cell_type": "code",
   "execution_count": 32,
   "id": "b385e715",
   "metadata": {},
   "outputs": [
    {
     "data": {
      "text/plain": [
       "'a'"
      ]
     },
     "execution_count": 32,
     "metadata": {},
     "output_type": "execute_result"
    }
   ],
   "source": [
    "# 인덱싱\n",
    "d8[0]"
   ]
  },
  {
   "cell_type": "code",
   "execution_count": 33,
   "id": "01b56f37",
   "metadata": {},
   "outputs": [
    {
     "data": {
      "text/plain": [
       "150"
      ]
     },
     "execution_count": 33,
     "metadata": {},
     "output_type": "execute_result"
    }
   ],
   "source": [
    "d8[-1] #맨 뒤의 인덱스"
   ]
  },
  {
   "cell_type": "code",
   "execution_count": 34,
   "id": "127498d1",
   "metadata": {},
   "outputs": [
    {
     "data": {
      "text/plain": [
       "['a', 20, 80]"
      ]
     },
     "execution_count": 34,
     "metadata": {},
     "output_type": "execute_result"
    }
   ],
   "source": [
    "# 슬라이싱\n",
    "d8[0:3] # n~m-1까지 호출"
   ]
  },
  {
   "cell_type": "code",
   "execution_count": 35,
   "id": "04633939",
   "metadata": {},
   "outputs": [
    {
     "data": {
      "text/plain": [
       "[50, 50, 150]"
      ]
     },
     "execution_count": 35,
     "metadata": {},
     "output_type": "execute_result"
    }
   ],
   "source": [
    "d8[3:] #끝까지 다 보여주"
   ]
  },
  {
   "cell_type": "code",
   "execution_count": 36,
   "id": "95552c6a",
   "metadata": {},
   "outputs": [
    {
     "data": {
      "text/plain": [
       "['a', 20, 80]"
      ]
     },
     "execution_count": 36,
     "metadata": {},
     "output_type": "execute_result"
    }
   ],
   "source": [
    "d8[ :-3]# 뒤에서 세번째 까지 보여주"
   ]
  },
  {
   "cell_type": "code",
   "execution_count": 37,
   "id": "fdb776c6",
   "metadata": {},
   "outputs": [],
   "source": [
    "# 데이터 변환\n",
    "d8[0] = 'z'"
   ]
  },
  {
   "cell_type": "code",
   "execution_count": 38,
   "id": "eee01315",
   "metadata": {},
   "outputs": [
    {
     "data": {
      "text/plain": [
       "['z', 20, 80, 50, 50, 150]"
      ]
     },
     "execution_count": 38,
     "metadata": {},
     "output_type": "execute_result"
    }
   ],
   "source": [
    "d8"
   ]
  },
  {
   "cell_type": "markdown",
   "id": "d42282df",
   "metadata": {},
   "source": [
    "## Tuple\n",
    "- 소괄호로 구성 ()\n",
    "- 중복값 허용\n",
    "- 수정 불가"
   ]
  },
  {
   "cell_type": "code",
   "execution_count": 39,
   "id": "50e8ef29",
   "metadata": {},
   "outputs": [],
   "source": [
    "d9 = (2,5,7)"
   ]
  },
  {
   "cell_type": "code",
   "execution_count": 40,
   "id": "a3621a0f",
   "metadata": {},
   "outputs": [
    {
     "data": {
      "text/plain": [
       "tuple"
      ]
     },
     "execution_count": 40,
     "metadata": {},
     "output_type": "execute_result"
    }
   ],
   "source": [
    "type(d9)"
   ]
  },
  {
   "cell_type": "code",
   "execution_count": 41,
   "id": "d6044b04",
   "metadata": {},
   "outputs": [
    {
     "data": {
      "text/plain": [
       "2"
      ]
     },
     "execution_count": 41,
     "metadata": {},
     "output_type": "execute_result"
    }
   ],
   "source": [
    "d9[0] # 튜플도 순서가 있기 때문에 인덱싱과 슬라이싱 가능"
   ]
  },
  {
   "cell_type": "code",
   "execution_count": 42,
   "id": "68049fa7",
   "metadata": {},
   "outputs": [
    {
     "ename": "TypeError",
     "evalue": "'tuple' object does not support item assignment",
     "output_type": "error",
     "traceback": [
      "\u001b[1;31m---------------------------------------------------------------------------\u001b[0m",
      "\u001b[1;31mTypeError\u001b[0m                                 Traceback (most recent call last)",
      "Input \u001b[1;32mIn [42]\u001b[0m, in \u001b[0;36m<cell line: 1>\u001b[1;34m()\u001b[0m\n\u001b[1;32m----> 1\u001b[0m d9[\u001b[38;5;241m0\u001b[39m]\u001b[38;5;241m=\u001b[39m\u001b[38;5;124m'\u001b[39m\u001b[38;5;124mz\u001b[39m\u001b[38;5;124m'\u001b[39m\n",
      "\u001b[1;31mTypeError\u001b[0m: 'tuple' object does not support item assignment"
     ]
    }
   ],
   "source": [
    "d9[0]='z' # 튜플은 수정이 안되므로 리스트로 변환"
   ]
  },
  {
   "cell_type": "code",
   "execution_count": 43,
   "id": "85ce0bf8",
   "metadata": {},
   "outputs": [
    {
     "data": {
      "text/plain": [
       "[2, 5, 7]"
      ]
     },
     "execution_count": 43,
     "metadata": {},
     "output_type": "execute_result"
    }
   ],
   "source": [
    "list(d9) #출력만해주는 함수"
   ]
  },
  {
   "cell_type": "code",
   "execution_count": 45,
   "id": "a07350cb",
   "metadata": {},
   "outputs": [
    {
     "data": {
      "text/plain": [
       "[1, 2, 3]"
      ]
     },
     "execution_count": 45,
     "metadata": {},
     "output_type": "execute_result"
    }
   ],
   "source": [
    "tuple1 = (1,2,3)\n",
    "list1 = list(tuple1)\n",
    "list1"
   ]
  },
  {
   "cell_type": "code",
   "execution_count": 46,
   "id": "8a5dbad7",
   "metadata": {},
   "outputs": [
    {
     "data": {
      "text/plain": [
       "['a', 2, 3]"
      ]
     },
     "execution_count": 46,
     "metadata": {},
     "output_type": "execute_result"
    }
   ],
   "source": [
    "# 수정\n",
    "list1[0] = 'a'\n",
    "list1"
   ]
  },
  {
   "cell_type": "code",
   "execution_count": 47,
   "id": "e7da85e5",
   "metadata": {},
   "outputs": [
    {
     "data": {
      "text/plain": [
       "('a', 2, 3)"
      ]
     },
     "execution_count": 47,
     "metadata": {},
     "output_type": "execute_result"
    }
   ],
   "source": [
    "tuple2 = tuple(list1)\n",
    "tuple2"
   ]
  },
  {
   "cell_type": "code",
   "execution_count": null,
   "id": "db4ea885",
   "metadata": {},
   "outputs": [],
   "source": []
  },
  {
   "cell_type": "code",
   "execution_count": null,
   "id": "092fa423",
   "metadata": {},
   "outputs": [],
   "source": []
  },
  {
   "cell_type": "code",
   "execution_count": null,
   "id": "33f86f99",
   "metadata": {},
   "outputs": [],
   "source": []
  },
  {
   "cell_type": "markdown",
   "id": "9a05dcab",
   "metadata": {},
   "source": [
    "### set { }\n",
    "- 중괄호로 구성\n",
    "- 중복값 없음\n",
    "- 데이터 수정 가능\n",
    "- 집합 연산 가능"
   ]
  },
  {
   "cell_type": "code",
   "execution_count": 48,
   "id": "31adef51",
   "metadata": {},
   "outputs": [
    {
     "data": {
      "text/plain": [
       "{1, 2, 3, 4, 5}"
      ]
     },
     "execution_count": 48,
     "metadata": {},
     "output_type": "execute_result"
    }
   ],
   "source": [
    "set1 = {5, 1, 5, 4, 3, 2, 1}\n",
    "set1"
   ]
  },
  {
   "cell_type": "code",
   "execution_count": null,
   "id": "fccc3260",
   "metadata": {},
   "outputs": [],
   "source": [
    "len(set1)\n",
    "#len() : 자료 구조 내 몇 개ㅢ 데이터가 있는지 확인하는 함수\n",
    "#length"
   ]
  },
  {
   "cell_type": "code",
   "execution_count": 50,
   "id": "8cae38ea",
   "metadata": {},
   "outputs": [],
   "source": [
    "#집합 연산\n",
    "set2 = {20,30,40, 50,60}\n",
    "set3 = {50,60,70,80}"
   ]
  },
  {
   "cell_type": "code",
   "execution_count": 52,
   "id": "f5068a71",
   "metadata": {},
   "outputs": [],
   "source": [
    "#교집합 : &\n",
    "#합집합 : |\n",
    "# 차집합 : -\n",
    "# 대상 차집합 : 교집합을 제외한 데이터 : ^"
   ]
  },
  {
   "cell_type": "code",
   "execution_count": 53,
   "id": "4900263e",
   "metadata": {},
   "outputs": [
    {
     "data": {
      "text/plain": [
       "{50, 60}"
      ]
     },
     "execution_count": 53,
     "metadata": {},
     "output_type": "execute_result"
    }
   ],
   "source": [
    "set2&set3"
   ]
  },
  {
   "cell_type": "code",
   "execution_count": 54,
   "id": "c6a067a8",
   "metadata": {},
   "outputs": [
    {
     "data": {
      "text/plain": [
       "{20, 30, 40, 50, 60, 70, 80}"
      ]
     },
     "execution_count": 54,
     "metadata": {},
     "output_type": "execute_result"
    }
   ],
   "source": [
    "set2|set3"
   ]
  },
  {
   "cell_type": "code",
   "execution_count": 55,
   "id": "12704ebb",
   "metadata": {},
   "outputs": [
    {
     "data": {
      "text/plain": [
       "{20, 30, 40}"
      ]
     },
     "execution_count": 55,
     "metadata": {},
     "output_type": "execute_result"
    }
   ],
   "source": [
    "set2-set3"
   ]
  },
  {
   "cell_type": "code",
   "execution_count": 56,
   "id": "4923f335",
   "metadata": {},
   "outputs": [
    {
     "data": {
      "text/plain": [
       "{70, 80}"
      ]
     },
     "execution_count": 56,
     "metadata": {},
     "output_type": "execute_result"
    }
   ],
   "source": [
    "set3-set2"
   ]
  },
  {
   "cell_type": "code",
   "execution_count": 57,
   "id": "f632143d",
   "metadata": {},
   "outputs": [
    {
     "data": {
      "text/plain": [
       "{20, 30, 40, 70, 80}"
      ]
     },
     "execution_count": 57,
     "metadata": {},
     "output_type": "execute_result"
    }
   ],
   "source": [
    "set2^set3"
   ]
  },
  {
   "cell_type": "code",
   "execution_count": null,
   "id": "0b98a7b3",
   "metadata": {},
   "outputs": [],
   "source": []
  },
  {
   "cell_type": "markdown",
   "id": "7c0fab94",
   "metadata": {},
   "source": [
    "## Dictionary\n",
    "\n",
    "- key와 value로 구성\n",
    "- {'key1':'value1', 'key2':'value2', ...}\n",
    "- 순서는 key 기준으로 정렬\n",
    "- 정형 데이터의 기본 구성요소"
   ]
  },
  {
   "cell_type": "code",
   "execution_count": 58,
   "id": "35daf66a",
   "metadata": {},
   "outputs": [],
   "source": [
    "dict1 = {'이름':'스폰지밥','직업':'집게리아 직원'}"
   ]
  },
  {
   "cell_type": "code",
   "execution_count": 59,
   "id": "4ac623af",
   "metadata": {},
   "outputs": [
    {
     "data": {
      "text/plain": [
       "{'이름': '스폰지밥', '직업': '집게리아 직원'}"
      ]
     },
     "execution_count": 59,
     "metadata": {},
     "output_type": "execute_result"
    }
   ],
   "source": [
    "dict1"
   ]
  },
  {
   "cell_type": "code",
   "execution_count": 60,
   "id": "275a1854",
   "metadata": {},
   "outputs": [
    {
     "data": {
      "text/plain": [
       "'스폰지밥'"
      ]
     },
     "execution_count": 60,
     "metadata": {},
     "output_type": "execute_result"
    }
   ],
   "source": [
    "dict1['이름']"
   ]
  },
  {
   "cell_type": "code",
   "execution_count": 62,
   "id": "bcbb928f",
   "metadata": {},
   "outputs": [
    {
     "data": {
      "text/plain": [
       "{'이름': '스폰지밥', '직업': '집게리아 직원', '친구': '핑핑이'}"
      ]
     },
     "execution_count": 62,
     "metadata": {},
     "output_type": "execute_result"
    }
   ],
   "source": [
    "# 데이터 추가\n",
    "dict1['친구'] = '핑핑이'\n",
    "dict1"
   ]
  },
  {
   "cell_type": "code",
   "execution_count": 63,
   "id": "86f44e63",
   "metadata": {},
   "outputs": [
    {
     "data": {
      "text/plain": [
       "dict_keys(['이름', '직업', '친구'])"
      ]
     },
     "execution_count": 63,
     "metadata": {},
     "output_type": "execute_result"
    }
   ],
   "source": [
    "#key 확인\n",
    "dict1.keys()"
   ]
  },
  {
   "cell_type": "code",
   "execution_count": 64,
   "id": "f0d159e9",
   "metadata": {},
   "outputs": [
    {
     "data": {
      "text/plain": [
       "dict_values(['스폰지밥', '집게리아 직원', '핑핑이'])"
      ]
     },
     "execution_count": 64,
     "metadata": {},
     "output_type": "execute_result"
    }
   ],
   "source": [
    "#값 확인\n",
    "dict1.values()"
   ]
  },
  {
   "cell_type": "code",
   "execution_count": 65,
   "id": "15f3c67b",
   "metadata": {},
   "outputs": [],
   "source": [
    "# 두 개의 리스트를 하나의 딕셔너리로 병합 가능\n",
    "dict2 = ['이름','나이','지역','성별']\n",
    "dict3 = ['홍길동','20','서울','남자']"
   ]
  },
  {
   "cell_type": "code",
   "execution_count": 66,
   "id": "0c2fe5c9",
   "metadata": {},
   "outputs": [
    {
     "data": {
      "text/plain": [
       "list"
      ]
     },
     "execution_count": 66,
     "metadata": {},
     "output_type": "execute_result"
    }
   ],
   "source": [
    "type(dict2)"
   ]
  },
  {
   "cell_type": "code",
   "execution_count": 68,
   "id": "04c1d65a",
   "metadata": {},
   "outputs": [
    {
     "data": {
      "text/plain": [
       "{'이름': '홍길동', '나이': '20', '지역': '서울', '성별': '남자'}"
      ]
     },
     "execution_count": 68,
     "metadata": {},
     "output_type": "execute_result"
    }
   ],
   "source": [
    "dict(zip(dict2,dict3))\n",
    "# dict2 : key\n",
    "# dict3 : values"
   ]
  },
  {
   "cell_type": "code",
   "execution_count": null,
   "id": "bbc6cba7",
   "metadata": {},
   "outputs": [],
   "source": []
  },
  {
   "cell_type": "markdown",
   "id": "e483f888",
   "metadata": {},
   "source": [
    "## 문자열 처리\n",
    "\n",
    "- 문자 데이터에 대한 다양한 처리\n",
    "- 정형 데이터 뿐 아니라 자연어 처리에서도 사용되는 함수들이 존재"
   ]
  },
  {
   "cell_type": "code",
   "execution_count": 69,
   "id": "34b7a814",
   "metadata": {},
   "outputs": [
    {
     "data": {
      "text/plain": [
       "'파이썬 데이터 분석'"
      ]
     },
     "execution_count": 69,
     "metadata": {},
     "output_type": "execute_result"
    }
   ],
   "source": [
    "# 문자데이터 출력 시 따옴표 사용\n",
    "'파이썬 데이터 분석'"
   ]
  },
  {
   "cell_type": "code",
   "execution_count": 72,
   "id": "5a75ecb3",
   "metadata": {},
   "outputs": [
    {
     "data": {
      "text/plain": [
       "'\\n안녕하세요\\n감사해요\\n잘 있어요\\n다시 만나요\\n'"
      ]
     },
     "execution_count": 72,
     "metadata": {},
     "output_type": "execute_result"
    }
   ],
   "source": [
    "# 여러 줄을 입력하는 경우\n",
    "'''\n",
    "안녕하세요\n",
    "감사해요\n",
    "잘 있어요\n",
    "다시 만나요\n",
    "'''\n",
    "\n",
    "# \\n은 엔터 의미"
   ]
  },
  {
   "cell_type": "code",
   "execution_count": 73,
   "id": "a398b7f3",
   "metadata": {},
   "outputs": [
    {
     "data": {
      "text/plain": [
       "'\\n\\n\\n텍스트\\n\\n\\n\\n'"
      ]
     },
     "execution_count": 73,
     "metadata": {},
     "output_type": "execute_result"
    }
   ],
   "source": [
    "'''\n",
    "\n",
    "\n",
    "텍스트\n",
    "\n",
    "\n",
    "\n",
    "'''"
   ]
  },
  {
   "cell_type": "code",
   "execution_count": 74,
   "id": "cdc8448c",
   "metadata": {},
   "outputs": [
    {
     "name": "stdout",
     "output_type": "stream",
     "text": [
      "텍스트\n",
      "슈퍼맨\n",
      "스파이더맨\n",
      "헐크\n",
      "\n"
     ]
    }
   ],
   "source": [
    "# \\n 없애고 싶음\n",
    "print('''텍스트\n",
    "슈퍼맨\n",
    "스파이더맨\n",
    "헐크\n",
    "''')"
   ]
  },
  {
   "cell_type": "code",
   "execution_count": 75,
   "id": "6b6c9a75",
   "metadata": {},
   "outputs": [
    {
     "name": "stdout",
     "output_type": "stream",
     "text": [
      "오늘부터 파이썬 전문가 \n",
      " 쉽지 않은 여정\n"
     ]
    }
   ],
   "source": [
    "# 줄바꿈 : \\n을 이용하여 엔터 출력 가능\n",
    "print('오늘부터 파이썬 전문가 \\n 쉽지 않은 여정')"
   ]
  },
  {
   "cell_type": "code",
   "execution_count": 76,
   "id": "48f49cb2",
   "metadata": {},
   "outputs": [
    {
     "data": {
      "text/plain": [
       "\"'사실 정말 정말 졸리다...'라고 속으로 생각했다\""
      ]
     },
     "execution_count": 76,
     "metadata": {},
     "output_type": "execute_result"
    }
   ],
   "source": [
    "# 따옴표 구분해야만 하는 시기 : 섞어서 쓰면 안됌\n",
    "# 문장에서 따옴표를 사용할 경우 큰/작은 따옴표 구분해서 사용해야함\n",
    "\"'사실 정말 정말 졸리다...'라고 속으로 생각했다\""
   ]
  },
  {
   "cell_type": "markdown",
   "id": "d9d78abe",
   "metadata": {},
   "source": [
    "## 문자열 연산 응용\n",
    "- 함수 사용"
   ]
  },
  {
   "cell_type": "code",
   "execution_count": 78,
   "id": "ade9db16",
   "metadata": {},
   "outputs": [
    {
     "data": {
      "text/plain": [
       "11"
      ]
     },
     "execution_count": 78,
     "metadata": {},
     "output_type": "execute_result"
    }
   ],
   "source": [
    "text1 ='오늘도 비가 올까요?'\n",
    "len(text1) # 띄어쓰기 포함 몇 글자인지"
   ]
  },
  {
   "cell_type": "code",
   "execution_count": 80,
   "id": "298fe6bf",
   "metadata": {},
   "outputs": [
    {
     "data": {
      "text/plain": [
       "'온종일 비가 온날은'"
      ]
     },
     "execution_count": 80,
     "metadata": {},
     "output_type": "execute_result"
    }
   ],
   "source": [
    "# 문자열도 슬라이싱이나 인덱싱 ㄱㄴ\n",
    "text2 = '온종일 비가 온날은 하얀 얼굴로 그대를 만나리'\n",
    "text2[0] # 문자열 인덱싱\n",
    "text2[0:10] # 문자열 슬라이싱"
   ]
  },
  {
   "cell_type": "code",
   "execution_count": null,
   "id": "a24f74aa",
   "metadata": {},
   "outputs": [],
   "source": []
  },
  {
   "cell_type": "code",
   "execution_count": 87,
   "id": "0fd99b28",
   "metadata": {},
   "outputs": [
    {
     "data": {
      "text/plain": [
       "'안녕하세요 저의 mbti는 ENTJ입니다. 혈액형은 rh+ O입니다.'"
      ]
     },
     "execution_count": 87,
     "metadata": {},
     "output_type": "execute_result"
    }
   ],
   "source": [
    "#포멧팅\n",
    "mbti = 'ENTJ'\n",
    "blood_type ='rh+ O'\n",
    "\n",
    "f'안녕하세요 저의 mbti는 {mbti}입니다. 혈액형은 {blood_type}입니다.'"
   ]
  },
  {
   "cell_type": "code",
   "execution_count": 86,
   "id": "ae44e132",
   "metadata": {},
   "outputs": [
    {
     "data": {
      "text/plain": [
       "'안녕하세요 저의 mbti는 ENTJ입니다. 혈액형은 rh+o입니다.'"
      ]
     },
     "execution_count": 86,
     "metadata": {},
     "output_type": "execute_result"
    }
   ],
   "source": [
    "f'안녕하세요 저의 mbti는 '+mbti+'입니다. 혈액형은 '+blood_type+'입니다.'"
   ]
  },
  {
   "cell_type": "code",
   "execution_count": 91,
   "id": "dcd6ab15",
   "metadata": {},
   "outputs": [
    {
     "data": {
      "text/plain": [
       "'안녕 내 이름은 홍길동, 나이는 20살이다!'"
      ]
     },
     "execution_count": 91,
     "metadata": {},
     "output_type": "execute_result"
    }
   ],
   "source": [
    "# 딕셔너리를 활용한 포메팅\n",
    "\n",
    "text4 = {'이름':'홍길동','나이':20, 'MBTI':'ENFP'}\n",
    "f'안녕 내 이름은 {text4[\"이름\"]}, 나이는 {text4[\"나이\"]}살이다!' # 이때는 큰 따옴표 넣어야함 -> 구별을 위해"
   ]
  },
  {
   "cell_type": "code",
   "execution_count": 92,
   "id": "4e10cff0",
   "metadata": {},
   "outputs": [
    {
     "data": {
      "text/plain": [
       "3"
      ]
     },
     "execution_count": 92,
     "metadata": {},
     "output_type": "execute_result"
    }
   ],
   "source": [
    "# 문자 개수 세기\n",
    "text5 ='show me the money'\n",
    "text5.count('e') # e 가 몇개인지 세어주쇼"
   ]
  },
  {
   "cell_type": "code",
   "execution_count": 94,
   "id": "b92db169",
   "metadata": {},
   "outputs": [
    {
     "data": {
      "text/plain": [
       "0"
      ]
     },
     "execution_count": 94,
     "metadata": {},
     "output_type": "execute_result"
    }
   ],
   "source": [
    "text5.count('show')\n",
    "text5.count('Show') # 파이썬은 대소문자 구분함"
   ]
  },
  {
   "cell_type": "code",
   "execution_count": 95,
   "id": "f329d6cc",
   "metadata": {},
   "outputs": [
    {
     "data": {
      "text/plain": [
       "'show me the money'"
      ]
     },
     "execution_count": 95,
     "metadata": {},
     "output_type": "execute_result"
    }
   ],
   "source": [
    "# 텍스트 전부를 대문자/소문자로 변환\n",
    "text5.upper() # 다 대문자\n",
    "text5.lower() # 다 소문자"
   ]
  },
  {
   "cell_type": "code",
   "execution_count": 97,
   "id": "6725416c",
   "metadata": {},
   "outputs": [
    {
     "data": {
      "text/plain": [
       "5"
      ]
     },
     "execution_count": 97,
     "metadata": {},
     "output_type": "execute_result"
    }
   ],
   "source": [
    "# 문자 위치 찾기\n",
    "text5.find('m')\n",
    "## 여러 개 인경우 첫번째 것만 반환함"
   ]
  },
  {
   "cell_type": "code",
   "execution_count": 99,
   "id": "f45db0e2",
   "metadata": {},
   "outputs": [
    {
     "data": {
      "text/plain": [
       "'the'"
      ]
     },
     "execution_count": 99,
     "metadata": {},
     "output_type": "execute_result"
    }
   ],
   "source": [
    "# 문자열 나누기\n",
    "text5.split(' ') # 띄어쓰기 기준 나누기\n",
    "text5.split(' ')[2] # 띄어쓰기 기준 나누기에서 3번째 "
   ]
  },
  {
   "cell_type": "code",
   "execution_count": 113,
   "id": "9dbcedd2",
   "metadata": {},
   "outputs": [
    {
     "ename": "KeyboardInterrupt",
     "evalue": "Interrupted by user",
     "output_type": "error",
     "traceback": [
      "\u001b[1;31m---------------------------------------------------------------------------\u001b[0m",
      "\u001b[1;31mKeyboardInterrupt\u001b[0m                         Traceback (most recent call last)",
      "Input \u001b[1;32mIn [113]\u001b[0m, in \u001b[0;36m<cell line: 2>\u001b[1;34m()\u001b[0m\n\u001b[0;32m      1\u001b[0m \u001b[38;5;66;03m# input()\u001b[39;00m\n\u001b[1;32m----> 2\u001b[0m \u001b[38;5;28;43minput\u001b[39;49m\u001b[43m(\u001b[49m\u001b[43m)\u001b[49m\n",
      "File \u001b[1;32m~\\anaconda3\\lib\\site-packages\\ipykernel\\kernelbase.py:1177\u001b[0m, in \u001b[0;36mKernel.raw_input\u001b[1;34m(self, prompt)\u001b[0m\n\u001b[0;32m   1173\u001b[0m \u001b[38;5;28;01mif\u001b[39;00m \u001b[38;5;129;01mnot\u001b[39;00m \u001b[38;5;28mself\u001b[39m\u001b[38;5;241m.\u001b[39m_allow_stdin:\n\u001b[0;32m   1174\u001b[0m     \u001b[38;5;28;01mraise\u001b[39;00m StdinNotImplementedError(\n\u001b[0;32m   1175\u001b[0m         \u001b[38;5;124m\"\u001b[39m\u001b[38;5;124mraw_input was called, but this frontend does not support input requests.\u001b[39m\u001b[38;5;124m\"\u001b[39m\n\u001b[0;32m   1176\u001b[0m     )\n\u001b[1;32m-> 1177\u001b[0m \u001b[38;5;28;01mreturn\u001b[39;00m \u001b[38;5;28;43mself\u001b[39;49m\u001b[38;5;241;43m.\u001b[39;49m\u001b[43m_input_request\u001b[49m\u001b[43m(\u001b[49m\n\u001b[0;32m   1178\u001b[0m \u001b[43m    \u001b[49m\u001b[38;5;28;43mstr\u001b[39;49m\u001b[43m(\u001b[49m\u001b[43mprompt\u001b[49m\u001b[43m)\u001b[49m\u001b[43m,\u001b[49m\n\u001b[0;32m   1179\u001b[0m \u001b[43m    \u001b[49m\u001b[38;5;28;43mself\u001b[39;49m\u001b[38;5;241;43m.\u001b[39;49m\u001b[43m_parent_ident\u001b[49m\u001b[43m[\u001b[49m\u001b[38;5;124;43m\"\u001b[39;49m\u001b[38;5;124;43mshell\u001b[39;49m\u001b[38;5;124;43m\"\u001b[39;49m\u001b[43m]\u001b[49m\u001b[43m,\u001b[49m\n\u001b[0;32m   1180\u001b[0m \u001b[43m    \u001b[49m\u001b[38;5;28;43mself\u001b[39;49m\u001b[38;5;241;43m.\u001b[39;49m\u001b[43mget_parent\u001b[49m\u001b[43m(\u001b[49m\u001b[38;5;124;43m\"\u001b[39;49m\u001b[38;5;124;43mshell\u001b[39;49m\u001b[38;5;124;43m\"\u001b[39;49m\u001b[43m)\u001b[49m\u001b[43m,\u001b[49m\n\u001b[0;32m   1181\u001b[0m \u001b[43m    \u001b[49m\u001b[43mpassword\u001b[49m\u001b[38;5;241;43m=\u001b[39;49m\u001b[38;5;28;43;01mFalse\u001b[39;49;00m\u001b[43m,\u001b[49m\n\u001b[0;32m   1182\u001b[0m \u001b[43m\u001b[49m\u001b[43m)\u001b[49m\n",
      "File \u001b[1;32m~\\anaconda3\\lib\\site-packages\\ipykernel\\kernelbase.py:1219\u001b[0m, in \u001b[0;36mKernel._input_request\u001b[1;34m(self, prompt, ident, parent, password)\u001b[0m\n\u001b[0;32m   1216\u001b[0m             \u001b[38;5;28;01mbreak\u001b[39;00m\n\u001b[0;32m   1217\u001b[0m \u001b[38;5;28;01mexcept\u001b[39;00m \u001b[38;5;167;01mKeyboardInterrupt\u001b[39;00m:\n\u001b[0;32m   1218\u001b[0m     \u001b[38;5;66;03m# re-raise KeyboardInterrupt, to truncate traceback\u001b[39;00m\n\u001b[1;32m-> 1219\u001b[0m     \u001b[38;5;28;01mraise\u001b[39;00m \u001b[38;5;167;01mKeyboardInterrupt\u001b[39;00m(\u001b[38;5;124m\"\u001b[39m\u001b[38;5;124mInterrupted by user\u001b[39m\u001b[38;5;124m\"\u001b[39m) \u001b[38;5;28;01mfrom\u001b[39;00m \u001b[38;5;28mNone\u001b[39m\n\u001b[0;32m   1220\u001b[0m \u001b[38;5;28;01mexcept\u001b[39;00m \u001b[38;5;167;01mException\u001b[39;00m:\n\u001b[0;32m   1221\u001b[0m     \u001b[38;5;28mself\u001b[39m\u001b[38;5;241m.\u001b[39mlog\u001b[38;5;241m.\u001b[39mwarning(\u001b[38;5;124m\"\u001b[39m\u001b[38;5;124mInvalid Message:\u001b[39m\u001b[38;5;124m\"\u001b[39m, exc_info\u001b[38;5;241m=\u001b[39m\u001b[38;5;28;01mTrue\u001b[39;00m)\n",
      "\u001b[1;31mKeyboardInterrupt\u001b[0m: Interrupted by user"
     ]
    }
   ],
   "source": [
    "# input()\n",
    "input()"
   ]
  },
  {
   "cell_type": "code",
   "execution_count": 104,
   "id": "b6a7566a",
   "metadata": {},
   "outputs": [
    {
     "name": "stdout",
     "output_type": "stream",
     "text": [
      "1\n"
     ]
    }
   ],
   "source": [
    "inp1 = input()"
   ]
  },
  {
   "cell_type": "code",
   "execution_count": 105,
   "id": "6678392d",
   "metadata": {},
   "outputs": [
    {
     "data": {
      "text/plain": [
       "'1'"
      ]
     },
     "execution_count": 105,
     "metadata": {},
     "output_type": "execute_result"
    }
   ],
   "source": [
    "inp1"
   ]
  },
  {
   "cell_type": "code",
   "execution_count": 106,
   "id": "61a1b883",
   "metadata": {},
   "outputs": [
    {
     "data": {
      "text/plain": [
       "str"
      ]
     },
     "execution_count": 106,
     "metadata": {},
     "output_type": "execute_result"
    }
   ],
   "source": [
    "type(inp1) # input 함수는 defalt 값이 str이므로 숫자로 가져오고 싶으면 int 사용"
   ]
  },
  {
   "cell_type": "code",
   "execution_count": 107,
   "id": "34398582",
   "metadata": {},
   "outputs": [
    {
     "name": "stdout",
     "output_type": "stream",
     "text": [
      "숫자를 쓰시오5\n"
     ]
    }
   ],
   "source": [
    "inp2 = int(input('숫자를 쓰시오'))"
   ]
  },
  {
   "cell_type": "code",
   "execution_count": 108,
   "id": "936a7eef",
   "metadata": {},
   "outputs": [
    {
     "data": {
      "text/plain": [
       "int"
      ]
     },
     "execution_count": 108,
     "metadata": {},
     "output_type": "execute_result"
    }
   ],
   "source": [
    "type(inp2)"
   ]
  },
  {
   "cell_type": "code",
   "execution_count": 111,
   "id": "a35c3dd9",
   "metadata": {},
   "outputs": [
    {
     "name": "stdout",
     "output_type": "stream",
     "text": [
      "이름 입력하시오고래고래\n",
      "종을 입력하시오포유류\n"
     ]
    }
   ],
   "source": [
    "name1 = input('이름 입력하시오')\n",
    "type1 = input('종을 입력하시오')\n",
    "\n",
    "input_dict = {name1:type1}"
   ]
  },
  {
   "cell_type": "code",
   "execution_count": 112,
   "id": "5f3f0354",
   "metadata": {},
   "outputs": [
    {
     "data": {
      "text/plain": [
       "{'고래고래': '포유류'}"
      ]
     },
     "execution_count": 112,
     "metadata": {},
     "output_type": "execute_result"
    }
   ],
   "source": [
    "input_dict"
   ]
  },
  {
   "cell_type": "code",
   "execution_count": null,
   "id": "24a77ab9",
   "metadata": {},
   "outputs": [],
   "source": []
  },
  {
   "cell_type": "code",
   "execution_count": null,
   "id": "067e805f",
   "metadata": {},
   "outputs": [],
   "source": []
  },
  {
   "cell_type": "code",
   "execution_count": null,
   "id": "282cfbd3",
   "metadata": {},
   "outputs": [],
   "source": []
  },
  {
   "cell_type": "code",
   "execution_count": null,
   "id": "2e76c3ed",
   "metadata": {},
   "outputs": [],
   "source": []
  },
  {
   "cell_type": "code",
   "execution_count": null,
   "id": "03ddab23",
   "metadata": {},
   "outputs": [],
   "source": []
  },
  {
   "cell_type": "code",
   "execution_count": null,
   "id": "49cf0e4e",
   "metadata": {},
   "outputs": [],
   "source": []
  },
  {
   "cell_type": "code",
   "execution_count": null,
   "id": "ba3581f9",
   "metadata": {},
   "outputs": [],
   "source": []
  },
  {
   "cell_type": "markdown",
   "id": "bef555fe",
   "metadata": {},
   "source": [
    "# 파이썬 구문 (Statement)\n",
    "\n",
    "- 특정 코드 반복 / 조건 만족 시 발동되도록 구성\n",
    "- 조건문 / 반복문\n"
   ]
  },
  {
   "cell_type": "markdown",
   "id": "625c82dc",
   "metadata": {},
   "source": [
    "##  조건문\n",
    "- if / elif / else\n",
    "- in / not in\n",
    "- pass"
   ]
  },
  {
   "cell_type": "markdown",
   "id": "b899c4aa",
   "metadata": {},
   "source": [
    "### if"
   ]
  },
  {
   "cell_type": "code",
   "execution_count": 137,
   "id": "5f696ca6",
   "metadata": {},
   "outputs": [
    {
     "name": "stdout",
     "output_type": "stream",
     "text": [
      "해당 데이터는 100보다 작습니다\n"
     ]
    }
   ],
   "source": [
    "d1 = 50\n",
    "\n",
    "if d1 >= 100: # 해당 조건을 만족하는 바로 아래 구문을 실행\n",
    "    print('해당 데이터는 100보다 큽니다')\n",
    "else : # 들여쓰기 : tab, space로 문장의 종속 관계 표현\n",
    "    print('해당 데이터는 100보다 작습니다')"
   ]
  },
  {
   "cell_type": "code",
   "execution_count": null,
   "id": "73b273ec",
   "metadata": {},
   "outputs": [],
   "source": [
    "# elif : 여러 조건을 걸고 싶은 경우"
   ]
  },
  {
   "cell_type": "code",
   "execution_count": 138,
   "id": "991df050",
   "metadata": {},
   "outputs": [
    {
     "name": "stdout",
     "output_type": "stream",
     "text": [
      "C\n"
     ]
    }
   ],
   "source": [
    "d2 = 70\n",
    "\n",
    "if d2 >= 90 :\n",
    "    print('A')\n",
    "elif d2 >= 80:\n",
    "    print('B')\n",
    "elif d2 >= 70:\n",
    "    print('C')\n",
    "else:\n",
    "    print('F')\n"
   ]
  },
  {
   "cell_type": "code",
   "execution_count": 139,
   "id": "549afb82",
   "metadata": {},
   "outputs": [
    {
     "name": "stdout",
     "output_type": "stream",
     "text": [
      "A\n"
     ]
    }
   ],
   "source": [
    "# in / not in\n",
    "# 문자열이 들어갔는지 확인\n",
    "\n",
    "d3 = 'python 데이터 분석'\n",
    "\n",
    "if 'python' in d3:\n",
    "    print('A')\n",
    "elif '데이터' in d3:\n",
    "    print('B')\n",
    "elif '분석' in d3:\n",
    "    print('C')\n",
    "else :\n",
    "    print('D')\n",
    "\n",
    "# if 문사용하는 경우, 첫번째 조건을 만난 후,\n",
    "# 이후의 코드 생략"
   ]
  },
  {
   "cell_type": "code",
   "execution_count": 140,
   "id": "724bcaf5",
   "metadata": {},
   "outputs": [
    {
     "name": "stdout",
     "output_type": "stream",
     "text": [
      "python\n"
     ]
    }
   ],
   "source": [
    "if 'java' in d3:\n",
    "    print('java')\n",
    "elif 'python' in d3:\n",
    "    print('python')\n",
    "else :\n",
    "    print('R')"
   ]
  },
  {
   "cell_type": "code",
   "execution_count": null,
   "id": "b7499da3",
   "metadata": {},
   "outputs": [],
   "source": [
    "#리스트 내 특정 값이 있는지 확인(in)\n",
    "\n",
    "d4 = [100,200,300,400]\n",
    "\n",
    "\n",
    "\n",
    "else :\n",
    "    print('F')\n",
    "\n"
   ]
  },
  {
   "cell_type": "code",
   "execution_count": null,
   "id": "671f01ae",
   "metadata": {},
   "outputs": [],
   "source": [
    "# else 구문 사용x도 if문 가능\n",
    "\n",
    "d5 = [1000,2000,3000]\n",
    "if 1000 in d5:\n",
    "    print('A')\n"
   ]
  },
  {
   "cell_type": "code",
   "execution_count": null,
   "id": "57bdef88",
   "metadata": {},
   "outputs": [],
   "source": [
    "# pass : 아무것도 실행 x\n",
    "d6 = ['A','B','C']\n",
    "if 'A' in d6:\n",
    "    pass #나중에 조건 들어올거니까 사전에 미리 나눠둠\n",
    "elif 'D' in d6:\n",
    "    print('F')"
   ]
  },
  {
   "cell_type": "code",
   "execution_count": 2,
   "id": "e3c13366",
   "metadata": {},
   "outputs": [
    {
     "data": {
      "text/plain": [
       "'B'"
      ]
     },
     "execution_count": 2,
     "metadata": {},
     "output_type": "execute_result"
    }
   ],
   "source": [
    "# 조건부 표현식\n",
    "d7 =200\n",
    "\n",
    "if d7 < 30:\n",
    "    d8 = 'A'\n",
    "else :\n",
    "    d8 = 'B'\n",
    "d8"
   ]
  },
  {
   "cell_type": "code",
   "execution_count": 3,
   "id": "9df092f3",
   "metadata": {},
   "outputs": [
    {
     "data": {
      "text/plain": [
       "'A'"
      ]
     },
     "execution_count": 3,
     "metadata": {},
     "output_type": "execute_result"
    }
   ],
   "source": [
    "# 변수 = (조건문이 참일 때 ) if (조건식) else(조건문이 거짓일 때 부여할 값)\n",
    "\n",
    "d8 = 'A' if d7 >=30 else 'B'\n",
    "d8"
   ]
  },
  {
   "cell_type": "markdown",
   "id": "411ac9de",
   "metadata": {},
   "source": [
    "## 반복문\n",
    "- while \n",
    "- for"
   ]
  },
  {
   "cell_type": "code",
   "execution_count": null,
   "id": "83777f1d",
   "metadata": {},
   "outputs": [],
   "source": [
    "# while\n",
    "d9 = 200\n",
    "while d9 >= 50 :\n",
    "    print('go')\n",
    "    break # 중지"
   ]
  },
  {
   "cell_type": "code",
   "execution_count": 6,
   "id": "8603385c",
   "metadata": {},
   "outputs": [
    {
     "name": "stdout",
     "output_type": "stream",
     "text": [
      "1\n",
      "2\n",
      "3\n",
      "4\n",
      "5\n",
      "6\n",
      "7\n",
      "8\n",
      "9\n",
      "10\n"
     ]
    }
   ],
   "source": [
    "d10 = 0\n",
    "\n",
    "while d10 < 10:\n",
    "    d10 = d10 +1\n",
    "    print(d10)"
   ]
  },
  {
   "cell_type": "code",
   "execution_count": 5,
   "id": "6ae6e119",
   "metadata": {},
   "outputs": [
    {
     "name": "stdout",
     "output_type": "stream",
     "text": [
      "1\n",
      "2\n",
      "3\n",
      "4\n",
      "5\n",
      "6\n",
      "7\n",
      "8\n",
      "9\n",
      "10\n"
     ]
    }
   ],
   "source": [
    "d10 = 0\n",
    "\n",
    "while d10 < 10:\n",
    "    d10 += 1 # d10 = d10 +1\n",
    "    print(d10)"
   ]
  },
  {
   "cell_type": "code",
   "execution_count": null,
   "id": "e6812130",
   "metadata": {},
   "outputs": [],
   "source": []
  },
  {
   "cell_type": "code",
   "execution_count": 7,
   "id": "0a254abf",
   "metadata": {},
   "outputs": [
    {
     "name": "stdout",
     "output_type": "stream",
     "text": [
      "1\n",
      "2\n",
      "4\n",
      "5\n"
     ]
    }
   ],
   "source": [
    "# 조건 초기화\n",
    "# continue\n",
    "# 해당 조건을 만나면 이후의 코드를 모두 생략한 후 처음으로 돌아가서 실행\n",
    "\n",
    "d1 = 0\n",
    "while d1 < 5:\n",
    "    d1 += 1\n",
    "    \n",
    "    if d1 == 3:\n",
    "        continue\n",
    "        \n",
    "    print(d1)\n"
   ]
  },
  {
   "cell_type": "code",
   "execution_count": null,
   "id": "01cef15b",
   "metadata": {},
   "outputs": [],
   "source": []
  },
  {
   "cell_type": "markdown",
   "id": "6dcaca02",
   "metadata": {},
   "source": [
    "# for문\n",
    "- for ~~~ in ~~~~\n",
    "- range(k,n) : k 부터 n-1까지 출력\n"
   ]
  },
  {
   "cell_type": "code",
   "execution_count": null,
   "id": "fa6e3553",
   "metadata": {},
   "outputs": [],
   "source": [
    "for i in range(0,4):\n",
    "    print(i)"
   ]
  },
  {
   "cell_type": "code",
   "execution_count": 8,
   "id": "416937c0",
   "metadata": {},
   "outputs": [
    {
     "name": "stdout",
     "output_type": "stream",
     "text": [
      "a\n",
      "b\n",
      "c\n",
      "d\n",
      "e\n"
     ]
    }
   ],
   "source": [
    "list1 = ['a','b','c','d','e']\n",
    "for i in list1:\n",
    "    print(i)"
   ]
  },
  {
   "cell_type": "code",
   "execution_count": 10,
   "id": "2d68d0d3",
   "metadata": {},
   "outputs": [
    {
     "name": "stdout",
     "output_type": "stream",
     "text": [
      "0 a\n",
      "1 b\n",
      "2 c\n",
      "3 1\n",
      "4 2\n",
      "5 3\n"
     ]
    }
   ],
   "source": [
    "# range와 인덱스 번호를 병용할 때\n",
    "\n",
    "list2 = ['a','b','c', 1,2,3]\n",
    "for i in range(len(list2)):\n",
    "    print(i,list2[i])\n",
    "    \n",
    "    \n",
    "# 인덱싱을 사용하기 위해 \n",
    "# for i in range(len(변수)):\n",
    "# i를 빼와서 인덱스 번호가 데이터를 순차적으로 호출\n"
   ]
  },
  {
   "cell_type": "code",
   "execution_count": 12,
   "id": "33e730ce",
   "metadata": {},
   "outputs": [
    {
     "name": "stdout",
     "output_type": "stream",
     "text": [
      "1 2\n",
      "2 3\n",
      "3 3\n",
      "3 2\n",
      "2 1\n"
     ]
    }
   ],
   "source": [
    "list3 = [1,2,3,3,2,1]\n",
    "\n",
    "for i in range(len(list3) -1 ):\n",
    "    print(list3[i],list3[i+1])"
   ]
  },
  {
   "cell_type": "code",
   "execution_count": 13,
   "id": "ed5ec7ee",
   "metadata": {},
   "outputs": [
    {
     "name": "stdout",
     "output_type": "stream",
     "text": [
      "3\n",
      "5\n",
      "6\n",
      "5\n",
      "3\n"
     ]
    }
   ],
   "source": [
    "list3 = [1,2,3,3,2,1]\n",
    "\n",
    "for i in range(len(list3) -1 ):\n",
    "    print(list3[i]+list3[i+1])"
   ]
  },
  {
   "cell_type": "code",
   "execution_count": null,
   "id": "b0bf86c7",
   "metadata": {},
   "outputs": [],
   "source": [
    "for i in [100,200,300]:\n",
    "    print(i + i/10 + i/100)    "
   ]
  },
  {
   "cell_type": "code",
   "execution_count": null,
   "id": "f771aff8",
   "metadata": {},
   "outputs": [],
   "source": [
    "# 튜플 unpacking\n",
    "d2= [(100,200),(300,400),(500,600)]\n",
    "\n",
    "for i, j in d2 :\n",
    "    print(i,j)\n",
    "    print(i + j)\n"
   ]
  },
  {
   "cell_type": "code",
   "execution_count": null,
   "id": "15bbddbe",
   "metadata": {},
   "outputs": [],
   "source": []
  },
  {
   "cell_type": "code",
   "execution_count": 14,
   "id": "22be478c",
   "metadata": {},
   "outputs": [
    {
     "data": {
      "text/plain": [
       "[0, 1, 2, 3, 4, 5, 6, 7, 8, 9]"
      ]
     },
     "execution_count": 14,
     "metadata": {},
     "output_type": "execute_result"
    }
   ],
   "source": [
    "# list comprehension\n",
    "\n",
    "d3 = []\n",
    "for i in range(0,10):\n",
    "    d3.append(i)\n",
    "d3"
   ]
  },
  {
   "cell_type": "code",
   "execution_count": 15,
   "id": "7c853447",
   "metadata": {},
   "outputs": [
    {
     "data": {
      "text/plain": [
       "[0, 1, 2, 3, 4, 5, 6, 7, 8, 9]"
      ]
     },
     "execution_count": 15,
     "metadata": {},
     "output_type": "execute_result"
    }
   ],
   "source": [
    "[x for x in range(0,10)]"
   ]
  },
  {
   "cell_type": "code",
   "execution_count": 17,
   "id": "42bf625e",
   "metadata": {},
   "outputs": [
    {
     "data": {
      "text/plain": [
       "[2, 4, 6, 8, 10]"
      ]
     },
     "execution_count": 17,
     "metadata": {},
     "output_type": "execute_result"
    }
   ],
   "source": [
    "# 1~11 까지 중 짝수인 값만 리스트로 생성\n",
    "[x for x in range(1,11) if x % 2 == 0]"
   ]
  },
  {
   "cell_type": "code",
   "execution_count": null,
   "id": "c092ab0a",
   "metadata": {},
   "outputs": [],
   "source": []
  },
  {
   "cell_type": "code",
   "execution_count": null,
   "id": "e969fdb9",
   "metadata": {},
   "outputs": [],
   "source": []
  },
  {
   "cell_type": "code",
   "execution_count": null,
   "id": "744e746d",
   "metadata": {},
   "outputs": [],
   "source": []
  },
  {
   "cell_type": "code",
   "execution_count": null,
   "id": "c69fdec0",
   "metadata": {},
   "outputs": [],
   "source": []
  }
 ],
 "metadata": {
  "kernelspec": {
   "display_name": "Python 3 (ipykernel)",
   "language": "python",
   "name": "python3"
  },
  "language_info": {
   "codemirror_mode": {
    "name": "ipython",
    "version": 3
   },
   "file_extension": ".py",
   "mimetype": "text/x-python",
   "name": "python",
   "nbconvert_exporter": "python",
   "pygments_lexer": "ipython3",
   "version": "3.9.13"
  }
 },
 "nbformat": 4,
 "nbformat_minor": 5
}
