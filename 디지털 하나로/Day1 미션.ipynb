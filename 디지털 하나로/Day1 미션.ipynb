{
 "cells": [
  {
   "cell_type": "markdown",
   "id": "9e10a9da",
   "metadata": {},
   "source": [
    "# 미션"
   ]
  },
  {
   "cell_type": "markdown",
   "id": "25fb242f",
   "metadata": {},
   "source": [
    "###  1. 아래에 선언된 문자형 변수를 추출하여, 이름, 일자, 과목 순으로 구성된 딕셔너리 형태로 출력하시오.\n",
    "{'과목':'Python','성함':'홍길동','일자':'20240701'}"
   ]
  },
  {
   "cell_type": "code",
   "execution_count": 1,
   "id": "315dda16",
   "metadata": {},
   "outputs": [
    {
     "data": {
      "text/plain": [
       "{'과목': 'Python', '성함': '홍길동', '일자': '20240701'}"
      ]
     },
     "execution_count": 1,
     "metadata": {},
     "output_type": "execute_result"
    }
   ],
   "source": [
    "dict1 = {'과목':'Python','성함':'홍길동','일자':'20240701'}\n",
    "\n",
    "key = dict1.keys() # key\n",
    "val = dict1.values() # values\n",
    "\n",
    "dict(zip(key, val)) # zip으로 합쳐서 하나의 딕셔너리로 만들기"
   ]
  },
  {
   "cell_type": "markdown",
   "id": "e2e813b0",
   "metadata": {},
   "source": [
    "### 2. 키와 몸무게를 입력받아 BMI 수치를 계산하는 프로그램을 제작하고,\n",
    "### 새로운 값을 입력할 때마다, result_list에 결과를 추가하시오.\n",
    "\n",
    "#### 조건 : 새로운 값을 입력 할 때 마다 기존의 데이터가 삭제되지 않고 추가되어야 합니다."
   ]
  },
  {
   "cell_type": "code",
   "execution_count": 20,
   "id": "00302fe6",
   "metadata": {},
   "outputs": [
    {
     "name": "stdout",
     "output_type": "stream",
     "text": [
      "키 cm ,(종료 : 0)0\n",
      "몸무게(kg),(종료 : 0)0\n"
     ]
    }
   ],
   "source": [
    "result_list = [ ] # 비어있는 리스트 생성\n",
    "\n",
    "while True:\n",
    "    high = int(input(f'키 cm ,(종료 : 0)'))\n",
    "    m_high = high/100 # BMI는 m 기준이므로 미터로 변환\n",
    "    weight = int(input('몸무게(kg),(종료 : 0)')) # 몸무게\n",
    "    if high == 0 & weight == 0:\n",
    "        break\n",
    "    BMI = weight / (m_high**2) # BMI 계산\n",
    "    result_list.append(BMI)\n",
    "    print(result_list)"
   ]
  },
  {
   "cell_type": "markdown",
   "id": "0cc1fb1f",
   "metadata": {},
   "source": [
    "### 답안"
   ]
  },
  {
   "cell_type": "code",
   "execution_count": 6,
   "id": "50451166",
   "metadata": {},
   "outputs": [
    {
     "data": {
      "text/plain": [
       "[]"
      ]
     },
     "execution_count": 6,
     "metadata": {},
     "output_type": "execute_result"
    }
   ],
   "source": [
    "bmi_list = []\n",
    "bmi_list"
   ]
  },
  {
   "cell_type": "code",
   "execution_count": 9,
   "id": "f931b6ac",
   "metadata": {},
   "outputs": [
    {
     "name": "stdout",
     "output_type": "stream",
     "text": [
      "키를 입력하시오. 단위(m)200\n",
      "몸무게를 입력하시오90\n"
     ]
    }
   ],
   "source": [
    "h = float(input('키를 입력하시오. 단위(m)'))\n",
    "w = int(input('몸무게를 입력하시오'))\n",
    "bmi = w / h **2\n",
    "bmi_list.append(bmi)"
   ]
  },
  {
   "cell_type": "code",
   "execution_count": 10,
   "id": "a812b555",
   "metadata": {},
   "outputs": [
    {
     "data": {
      "text/plain": [
       "[27.777777777777775, 0.00225]"
      ]
     },
     "execution_count": 10,
     "metadata": {},
     "output_type": "execute_result"
    }
   ],
   "source": [
    "bmi_list"
   ]
  },
  {
   "cell_type": "markdown",
   "id": "92ecbad5",
   "metadata": {},
   "source": [
    "### 3. 아래의 리스트를 문자열로 변환하시오.\n",
    "\n",
    "#### [\"Music\",\"Is\",\"MY\",\"Life\"] -> Music is my life"
   ]
  },
  {
   "cell_type": "code",
   "execution_count": null,
   "id": "07f86f27",
   "metadata": {},
   "outputs": [],
   "source": [
    "list3 = [\"Music\",\"is\",\"my\",\"life\"]\n",
    "text = ' '.join(list3)\n",
    "print(text)"
   ]
  },
  {
   "cell_type": "markdown",
   "id": "9ec479da",
   "metadata": {},
   "source": [
    "### 4. 아래 선언된 튜플에 80 이라는 값을 추가하여 출력하시오.\n",
    "t1 = (13,234,53,22,35)"
   ]
  },
  {
   "cell_type": "code",
   "execution_count": null,
   "id": "a0d69167",
   "metadata": {},
   "outputs": [],
   "source": [
    "t1 = (13,234,53,22,35)\n",
    "t1 = list(t1)\n",
    "t1.append(80)\n",
    "t1 = tuple(t1)\n",
    "t1"
   ]
  },
  {
   "cell_type": "markdown",
   "id": "1e4ed9b1",
   "metadata": {},
   "source": [
    "### 5.아래의 리스트에서 A 문자를 C 문자로 바꾸어 출력하시오.\n",
    "\n",
    "list1 = [\"A\", 123, \"B\", \"D\", \"F\"]"
   ]
  },
  {
   "cell_type": "code",
   "execution_count": null,
   "id": "3b2c2a01",
   "metadata": {},
   "outputs": [],
   "source": [
    "list1 = ['A',123,'B','D','F']\n",
    "list1[0] = 'C'\n",
    "list1"
   ]
  },
  {
   "cell_type": "markdown",
   "id": "47fe4c4e",
   "metadata": {},
   "source": [
    "### 6. 아래 두 개의 리스트에서 중복된 값을 제거하여 출력하시오.\n",
    "\n",
    "list1 = [1,2,3,4,5,6,7,8,9]\n",
    "\n",
    "list2 = [2,4,6,7,8,9]"
   ]
  },
  {
   "cell_type": "code",
   "execution_count": null,
   "id": "5ecbdd09",
   "metadata": {},
   "outputs": [],
   "source": [
    "list1 = [1,2,3,4,5,6,7,8,9]\n",
    "list2 = [2,4,6,7,8,9]\n",
    "\n",
    "set1=set(list1)\n",
    "set2=set(list2)\n",
    "\n",
    "set3=set1&set2\n",
    "set4=set1|set2\n",
    "list3 = list(set4 - set3)\n",
    "list3"
   ]
  }
 ],
 "metadata": {
  "kernelspec": {
   "display_name": "Python 3 (ipykernel)",
   "language": "python",
   "name": "python3"
  },
  "language_info": {
   "codemirror_mode": {
    "name": "ipython",
    "version": 3
   },
   "file_extension": ".py",
   "mimetype": "text/x-python",
   "name": "python",
   "nbconvert_exporter": "python",
   "pygments_lexer": "ipython3",
   "version": "3.9.13"
  }
 },
 "nbformat": 4,
 "nbformat_minor": 5
}
